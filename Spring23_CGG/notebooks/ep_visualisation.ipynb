{
 "cells": [
  {
   "cell_type": "code",
   "execution_count": 3,
   "id": "1884a455",
   "metadata": {},
   "outputs": [],
   "source": [
    "import os, json, sys\n",
    "import numpy as np\n",
    "from PIL import Image\n",
    "import matplotlib.pyplot as plt\n",
    "import cv2"
   ]
  },
  {
   "cell_type": "code",
   "execution_count": 4,
   "id": "1441b911",
   "metadata": {},
   "outputs": [],
   "source": [
    "in_notebooks_dir = (\n",
    "    (os.path.basename(os.getcwd()) == 'notebooks') and \n",
    "    (os.path.exists(os.path.join(os.path.dirname(os.getcwd()), 'src')))\n",
    ")\n",
    "if in_notebooks_dir:\n",
    "    os.chdir(os.path.dirname(os.getcwd()))\n",
    "\n",
    "srcdir = os.path.join('..', 'src')\n",
    "if srcdir not in sys.path:\n",
    "    sys.path.insert(0, srcdir)"
   ]
  },
  {
   "cell_type": "code",
   "execution_count": 6,
   "id": "0a78c908",
   "metadata": {},
   "outputs": [],
   "source": [
    "import src.utils.np_utils as npu"
   ]
  },
  {
   "cell_type": "code",
   "execution_count": null,
   "id": "d7e35c00",
   "metadata": {},
   "outputs": [],
   "source": []
  }
 ],
 "metadata": {
  "kernelspec": {
   "display_name": "EDA-env",
   "language": "python",
   "name": "eda-env"
  },
  "language_info": {
   "codemirror_mode": {
    "name": "ipython",
    "version": 3
   },
   "file_extension": ".py",
   "mimetype": "text/x-python",
   "name": "python",
   "nbconvert_exporter": "python",
   "pygments_lexer": "ipython3",
   "version": "3.7.16"
  }
 },
 "nbformat": 4,
 "nbformat_minor": 5
}
