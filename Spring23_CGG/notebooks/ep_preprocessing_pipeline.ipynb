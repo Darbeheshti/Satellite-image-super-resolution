{
 "cells": [
  {
   "cell_type": "code",
   "execution_count": 1,
   "id": "c74d9c2b",
   "metadata": {},
   "outputs": [],
   "source": [
    "import os, sys, glob\n",
    "from PIL import Image\n",
    "import numpy as np\n",
    "import json"
   ]
  },
  {
   "cell_type": "code",
   "execution_count": 2,
   "id": "51bac347",
   "metadata": {},
   "outputs": [],
   "source": [
    "in_notebooks_dir = (\n",
    "    (os.path.basename(os.getcwd()) == 'notebooks') and \n",
    "    (os.path.exists(os.path.join(os.path.dirname(os.getcwd()), 'src')))\n",
    ")\n",
    "if in_notebooks_dir:\n",
    "    os.chdir(os.path.dirname(os.getcwd()))\n",
    "\n",
    "srcdir = os.path.join('..', 'src')\n",
    "if srcdir not in sys.path:\n",
    "    sys.path.insert(0, srcdir)"
   ]
  },
  {
   "cell_type": "code",
   "execution_count": 3,
   "id": "1de99f9a",
   "metadata": {},
   "outputs": [],
   "source": [
    "import src.preprocessing.np_utils as npu"
   ]
  },
  {
   "cell_type": "markdown",
   "id": "ee94b12d",
   "metadata": {},
   "source": [
    "### Train, validation, test split"
   ]
  },
  {
   "cell_type": "code",
   "execution_count": 4,
   "id": "ae4ec896",
   "metadata": {},
   "outputs": [],
   "source": [
    "from sklearn.model_selection import train_test_split"
   ]
  },
  {
   "cell_type": "code",
   "execution_count": 5,
   "id": "db513adf",
   "metadata": {},
   "outputs": [],
   "source": [
    "X = os.listdir(os.getcwd() + '/data/processed/train/10x/')\n",
    "y = os.listdir(os.getcwd() + '/data/raw/CGG_data/train/gt/')"
   ]
  },
  {
   "cell_type": "code",
   "execution_count": 6,
   "id": "89d04826",
   "metadata": {},
   "outputs": [],
   "source": [
    "X_train, X_test, y_train, y_test = train_test_split(X, y, test_size=0.3, random_state=100)\n",
    "\n",
    "X_val, X_test, y_val, y_test = train_test_split(X_test, y_test, test_size=0.5, random_state=100)"
   ]
  },
  {
   "cell_type": "code",
   "execution_count": 7,
   "id": "9309a2ad",
   "metadata": {},
   "outputs": [
    {
     "name": "stdout",
     "output_type": "stream",
     "text": [
      "859\n",
      "184\n",
      "185\n"
     ]
    }
   ],
   "source": [
    "print(len(X_train))\n",
    "print(len(X_val))\n",
    "print(len(X_test))"
   ]
  },
  {
   "cell_type": "code",
   "execution_count": 8,
   "id": "326c916e",
   "metadata": {},
   "outputs": [
    {
     "name": "stdout",
     "output_type": "stream",
     "text": [
      "True\n",
      "True\n",
      "True\n"
     ]
    }
   ],
   "source": [
    "print(X_train == y_train)\n",
    "print(X_val == y_val)\n",
    "print(X_val == y_val)"
   ]
  },
  {
   "cell_type": "markdown",
   "id": "fbc0cab7",
   "metadata": {},
   "source": [
    "### Compute mean and std of each RGB channel"
   ]
  },
  {
   "cell_type": "code",
   "execution_count": 9,
   "id": "b07455dc",
   "metadata": {},
   "outputs": [],
   "source": [
    "# all images in dir\n",
    "means, stds = npu.compute_stats_channel_dim(os.getcwd() + '/data/processed/train/10x/', \"all\")"
   ]
  },
  {
   "cell_type": "code",
   "execution_count": 10,
   "id": "617d342d",
   "metadata": {},
   "outputs": [
    {
     "name": "stdout",
     "output_type": "stream",
     "text": [
      "[0.420558884432121, 0.4311687119184085, 0.3818280967711476]\n",
      "[0.20718212258135882, 0.17625334454559743, 0.17767858632744918]\n"
     ]
    }
   ],
   "source": [
    "print(means)\n",
    "print(stds)"
   ]
  },
  {
   "cell_type": "code",
   "execution_count": 11,
   "id": "9c88af8b",
   "metadata": {},
   "outputs": [],
   "source": [
    "# all training set images\n",
    "means, stds = npu.compute_stats_channel_dim(os.getcwd() + '/data/processed/train/10x/', X_train)"
   ]
  },
  {
   "cell_type": "code",
   "execution_count": 12,
   "id": "cdba57d9",
   "metadata": {},
   "outputs": [
    {
     "name": "stdout",
     "output_type": "stream",
     "text": [
      "[0.41738421690616206, 0.4286408838541717, 0.3788627448170213]\n",
      "[0.20636247156364262, 0.1751335395309551, 0.17651719862502346]\n"
     ]
    }
   ],
   "source": [
    "print(means)\n",
    "print(stds)"
   ]
  },
  {
   "cell_type": "markdown",
   "id": "1700f2c1",
   "metadata": {},
   "source": [
    "**Write as JSON**"
   ]
  },
  {
   "cell_type": "code",
   "execution_count": 16,
   "id": "f5139fc6",
   "metadata": {},
   "outputs": [],
   "source": [
    "preprocessing_json = {}\n",
    "\n",
    "preprocessing_json['means'] = means\n",
    "preprocessing_json['stds']  = stds\n",
    "preprocessing_json['train'] = X_train\n",
    "preprocessing_json['val']   = X_val\n",
    "preprocessing_json['test']  = X_test"
   ]
  },
  {
   "cell_type": "code",
   "execution_count": 17,
   "id": "8e9a9ed3",
   "metadata": {},
   "outputs": [],
   "source": [
    "with open(\"data/processed/preprocessing.json\", \"w\") as f:\n",
    "    json.dump(preprocessing_json, f)"
   ]
  },
  {
   "cell_type": "code",
   "execution_count": null,
   "id": "ecaebf9e",
   "metadata": {},
   "outputs": [],
   "source": []
  }
 ],
 "metadata": {
  "kernelspec": {
   "display_name": "EDA-env",
   "language": "python",
   "name": "eda-env"
  },
  "language_info": {
   "codemirror_mode": {
    "name": "ipython",
    "version": 3
   },
   "file_extension": ".py",
   "mimetype": "text/x-python",
   "name": "python",
   "nbconvert_exporter": "python",
   "pygments_lexer": "ipython3",
   "version": "3.7.16"
  }
 },
 "nbformat": 4,
 "nbformat_minor": 5
}
